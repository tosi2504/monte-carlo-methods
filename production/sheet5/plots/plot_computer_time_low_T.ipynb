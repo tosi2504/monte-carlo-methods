{
 "cells": [
  {
   "cell_type": "code",
   "execution_count": 1,
   "id": "5e41158c",
   "metadata": {},
   "outputs": [
    {
     "name": "stdout",
     "output_type": "stream",
     "text": [
      "ssheesh\n",
      "ssheesh\n",
      "ssheesh\n",
      "ssheesh\n",
      "ssheesh\n",
      "ssheesh\n",
      "ssheesh\n",
      "ssheesh\n",
      "ssheesh\n",
      "ssheesh\n",
      "ssheesh\n",
      "ssheesh\n",
      "ssheesh\n",
      "ssheesh\n",
      "ssheesh\n",
      "ssheesh\n",
      "ssheesh\n",
      "ssheesh\n",
      "ssheesh\n",
      "ssheesh\n",
      "ssheesh\n",
      "ssheesh\n",
      "ssheesh\n",
      "ssheesh\n",
      "ssheesh\n"
     ]
    }
   ],
   "source": [
    "from os import listdir\n",
    "from tools import ChainAnalyzer\n",
    "import matplotlib.pyplot as plt\n",
    "\n",
    "\n",
    "directory = \"chains_beta1_5\"\n",
    "filenames = listdir(directory)\n",
    "\n",
    "numLeapss = list()\n",
    "leapsizes = list()\n",
    "E_autocorr_times = list()\n",
    "for filename in filenames:\n",
    "    chain = ChainAnalyzer(directory+\"/\"+filename)\n",
    "    chain.calc_autocorrelation_function()\n",
    "    chain.calc_autocorrelation_time()\n",
    "    numLeapss.append(chain.numLeaps)\n",
    "    leapsizes.append(chain.leapsize)\n",
    "    E_autocorr_times.append(chain.E_autocorr_time)\n",
    "    print(\"ssheesh\")"
   ]
  },
  {
   "cell_type": "code",
   "execution_count": 17,
   "id": "e0512d38",
   "metadata": {},
   "outputs": [],
   "source": [
    "fig = plt.figure()\n",
    "ax = fig.add_subplot(projection = \"3d\")\n",
    "ax.scatter(numLeapss, leapsizes, E_autocorr_times)\n",
    "ax.set_zlim(0, 10000)\n",
    "plt.show()"
   ]
  },
  {
   "cell_type": "code",
   "execution_count": null,
   "id": "0152e1e9",
   "metadata": {},
   "outputs": [],
   "source": []
  }
 ],
 "metadata": {
  "kernelspec": {
   "display_name": "Python 3 (ipykernel)",
   "language": "python",
   "name": "python3"
  },
  "language_info": {
   "codemirror_mode": {
    "name": "ipython",
    "version": 3
   },
   "file_extension": ".py",
   "mimetype": "text/x-python",
   "name": "python",
   "nbconvert_exporter": "python",
   "pygments_lexer": "ipython3",
   "version": "3.8.10"
  }
 },
 "nbformat": 4,
 "nbformat_minor": 5
}
